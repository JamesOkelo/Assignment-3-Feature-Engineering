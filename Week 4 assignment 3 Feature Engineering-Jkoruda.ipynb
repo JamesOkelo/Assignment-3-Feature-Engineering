{
  "cells": [
    {
      "cell_type": "markdown",
      "metadata": {
        "colab_type": "text",
        "id": "view-in-github"
      },
      "source": [
        "<a href=\"https://colab.research.google.com/github/vmkainga/Feature-Engineering-with-Python-Project/blob/main/Feature_Engineering_with_Python_Project_Violet.ipynb\" target=\"_parent\"><img src=\"https://colab.research.google.com/assets/colab-badge.svg\" alt=\"Open In Colab\"/></a>"
      ]
    },
    {
      "cell_type": "markdown",
      "metadata": {},
      "source": [
        "# <font color='#2EEF4F'>Week 4 Assignment 3 -  Feature Engineering - JKoruda</font>"
      ]
    },
    {
      "cell_type": "code",
      "execution_count": null,
      "metadata": {},
      "outputs": [],
      "source": []
    },
    {
      "cell_type": "markdown",
      "metadata": {
        "id": "IcGUDoSkBiT4"
      },
      "source": [
        "# <font color='#2F4F4F'>. Defining the Question</font>"
      ]
    },
    {
      "cell_type": "markdown",
      "metadata": {
        "id": "6sg3Sq-kBiT5"
      },
      "source": [
        "### a) Specifying the Data Analysis Question\n",
        "\n",
        "Sendy has hired you to help predict the estimated time of delivery of orders, from the\n",
        "point of driver pickup to the point of arrival at the final destination. Build a model that\n",
        "predicts an accurate delivery time, from picking up a package arriving at the final\n",
        "destination\n"
      ]
    },
    {
      "cell_type": "markdown",
      "metadata": {
        "id": "54AGppS1BiT6"
      },
      "source": [
        "### b) Defining the Metric for Success\n",
        "\n",
        "The metrics we will use to evaluate our model are RMSE"
      ]
    },
    {
      "cell_type": "markdown",
      "metadata": {
        "id": "In67Zlg2BiT7"
      },
      "source": [
        "### c) Understanding the Context \n",
        "\n",
        "Logistics in Sub-Saharan Africa increases the cost of manufactured goods by up to\n",
        "320%; while in Europe, it only accounts for up to 90% of the manufacturing cost. Sendy\n",
        "is a business-to-business platform established in 2014, to enable businesses of all types\n",
        "and sizes to transport goods more efficiently across East Africa. The company is\n",
        "headquartered in Kenya with a team of more than 100 staff, focused on building practical\n",
        "solutions for Africa’s dynamic transportation needs, from developing apps and web\n",
        "solutions to providing dedicated support for goods on the move.\n",
        "\n",
        "\n",
        "Sendy has hired you to help predict the estimated time of delivery of orders, from the\n",
        "point of driver pickup to the point of arrival at the final destination. Build a model that\n",
        "predicts an accurate delivery time, from picking up a package arriving at the final\n",
        "destination. An accurate arrival time prediction will help all business to improve their\n",
        "logistics and communicate the accurate time their time to their customers. You will be\n",
        "required to perform various feature engineering techniques while preparing your data for\n",
        "further analysis.\n"
      ]
    },
    {
      "cell_type": "markdown",
      "metadata": {
        "id": "VME7R5U9BiT8"
      },
      "source": [
        "### d) Recording the Experimental Design\n",
        "\n",
        "* Defining the Research Question\n",
        "* Data Importation\n",
        "* Data Exploration\n",
        "* Data Cleaning\n",
        "* Data Analysis\n",
        "* Data Preparation\n",
        "* Data Modeling\n",
        "* Model Evaluation\n",
        "* Challenging your Solution\n",
        "* Recommendations / Conclusion "
      ]
    },
    {
      "cell_type": "markdown",
      "metadata": {
        "id": "Ox4_7p-dBiT8"
      },
      "source": [
        "### e) Data Relevance\n",
        "\n",
        "The data provided was relevant to answering the research question."
      ]
    },
    {
      "cell_type": "markdown",
      "metadata": {
        "id": "C8P0JbeUBiT9"
      },
      "source": [
        "# <font color='#2F4F4F'>1. Data Cleaning & Preparation</font>"
      ]
    },
    {
      "cell_type": "code",
      "execution_count": 185,
      "metadata": {
        "id": "7i0Z1TaoBiT-"
      },
      "outputs": [],
      "source": [
        "# loading libraries\n",
        "import pandas as pd\n",
        "import numpy as np\n",
        "import matplotlib.pyplot as plt\n",
        "import seaborn as sns\n",
        "\n",
        "pd.set_option('display.max.columns', None)\n",
        "pd.set_option('display.max_colwidth', None)\n",
        "%matplotlib inline\n"
      ]
    },
    {
      "cell_type": "code",
      "execution_count": 192,
      "metadata": {
        "colab": {
          "base_uri": "https://localhost:8080/",
          "height": 363
        },
        "id": "hrt1AegqBiUD",
        "outputId": "36e5f0f2-8cbb-4a42-8b99-f2bdc6ace09b",
        "scrolled": true
      },
      "outputs": [
        {
          "data": {
            "text/html": [
              "\n",
              "  <div id=\"df-e4c5873b-0418-49b8-82ea-d84045c89578\">\n",
              "    <div class=\"colab-df-container\">\n",
              "      <div>\n",
              "<style scoped>\n",
              "    .dataframe tbody tr th:only-of-type {\n",
              "        vertical-align: middle;\n",
              "    }\n",
              "\n",
              "    .dataframe tbody tr th {\n",
              "        vertical-align: top;\n",
              "    }\n",
              "\n",
              "    .dataframe thead th {\n",
              "        text-align: right;\n",
              "    }\n",
              "</style>\n",
              "<table border=\"1\" class=\"dataframe\">\n",
              "  <thead>\n",
              "    <tr style=\"text-align: right;\">\n",
              "      <th></th>\n",
              "      <th>Order No</th>\n",
              "      <th>User Id</th>\n",
              "      <th>Vehicle Type</th>\n",
              "      <th>Platform Type</th>\n",
              "      <th>Personal or Business</th>\n",
              "      <th>Placement - Day of Month</th>\n",
              "      <th>Placement - Weekday (Mo = 1)</th>\n",
              "      <th>Placement - Time</th>\n",
              "      <th>Confirmation - Day of Month</th>\n",
              "      <th>Confirmation - Weekday (Mo = 1)</th>\n",
              "      <th>Confirmation - Time</th>\n",
              "      <th>Arrival at Pickup - Day of Month</th>\n",
              "      <th>Arrival at Pickup - Weekday (Mo = 1)</th>\n",
              "      <th>Arrival at Pickup - Time</th>\n",
              "      <th>Pickup - Day of Month</th>\n",
              "      <th>Pickup - Weekday (Mo = 1)</th>\n",
              "      <th>Pickup - Time</th>\n",
              "      <th>Arrival at Destination - Day of Month</th>\n",
              "      <th>Arrival at Destination - Weekday (Mo = 1)</th>\n",
              "      <th>Arrival at Destination - Time</th>\n",
              "      <th>Distance (KM)</th>\n",
              "      <th>Temperature</th>\n",
              "      <th>Precipitation in millimeters</th>\n",
              "      <th>Pickup Lat</th>\n",
              "      <th>Pickup Long</th>\n",
              "      <th>Destination Lat</th>\n",
              "      <th>Destination Long</th>\n",
              "      <th>Rider Id</th>\n",
              "      <th>Time from Pickup to Arrival</th>\n",
              "    </tr>\n",
              "  </thead>\n",
              "  <tbody>\n",
              "    <tr>\n",
              "      <th>1655</th>\n",
              "      <td>Order_No_1071</td>\n",
              "      <td>User_Id_238</td>\n",
              "      <td>Bike</td>\n",
              "      <td>3</td>\n",
              "      <td>Business</td>\n",
              "      <td>22</td>\n",
              "      <td>5</td>\n",
              "      <td>11:29:33 AM</td>\n",
              "      <td>22</td>\n",
              "      <td>5</td>\n",
              "      <td>11:29:58 AM</td>\n",
              "      <td>22</td>\n",
              "      <td>5</td>\n",
              "      <td>11:36:53 AM</td>\n",
              "      <td>22</td>\n",
              "      <td>5</td>\n",
              "      <td>11:39:23 AM</td>\n",
              "      <td>22</td>\n",
              "      <td>5</td>\n",
              "      <td>12:04:45 PM</td>\n",
              "      <td>15</td>\n",
              "      <td>NaN</td>\n",
              "      <td>NaN</td>\n",
              "      <td>-1.307787</td>\n",
              "      <td>36.844321</td>\n",
              "      <td>-1.362953</td>\n",
              "      <td>36.904214</td>\n",
              "      <td>Rider_Id_114</td>\n",
              "      <td>1522</td>\n",
              "    </tr>\n",
              "    <tr>\n",
              "      <th>19251</th>\n",
              "      <td>Order_No_3293</td>\n",
              "      <td>User_Id_3147</td>\n",
              "      <td>Bike</td>\n",
              "      <td>3</td>\n",
              "      <td>Business</td>\n",
              "      <td>12</td>\n",
              "      <td>2</td>\n",
              "      <td>12:37:29 PM</td>\n",
              "      <td>12</td>\n",
              "      <td>2</td>\n",
              "      <td>12:38:16 PM</td>\n",
              "      <td>12</td>\n",
              "      <td>2</td>\n",
              "      <td>1:22:16 PM</td>\n",
              "      <td>12</td>\n",
              "      <td>2</td>\n",
              "      <td>1:30:30 PM</td>\n",
              "      <td>12</td>\n",
              "      <td>2</td>\n",
              "      <td>1:42:02 PM</td>\n",
              "      <td>4</td>\n",
              "      <td>24.7</td>\n",
              "      <td>NaN</td>\n",
              "      <td>-1.347207</td>\n",
              "      <td>36.769264</td>\n",
              "      <td>-1.320511</td>\n",
              "      <td>36.780102</td>\n",
              "      <td>Rider_Id_328</td>\n",
              "      <td>692</td>\n",
              "    </tr>\n",
              "    <tr>\n",
              "      <th>11718</th>\n",
              "      <td>Order_No_545</td>\n",
              "      <td>User_Id_2229</td>\n",
              "      <td>Bike</td>\n",
              "      <td>3</td>\n",
              "      <td>Business</td>\n",
              "      <td>10</td>\n",
              "      <td>1</td>\n",
              "      <td>9:10:46 AM</td>\n",
              "      <td>10</td>\n",
              "      <td>1</td>\n",
              "      <td>9:11:21 AM</td>\n",
              "      <td>10</td>\n",
              "      <td>1</td>\n",
              "      <td>9:58:44 AM</td>\n",
              "      <td>10</td>\n",
              "      <td>1</td>\n",
              "      <td>10:10:19 AM</td>\n",
              "      <td>10</td>\n",
              "      <td>1</td>\n",
              "      <td>10:52:34 AM</td>\n",
              "      <td>20</td>\n",
              "      <td>16.4</td>\n",
              "      <td>NaN</td>\n",
              "      <td>-1.324768</td>\n",
              "      <td>36.858030</td>\n",
              "      <td>-1.236702</td>\n",
              "      <td>36.875872</td>\n",
              "      <td>Rider_Id_48</td>\n",
              "      <td>2535</td>\n",
              "    </tr>\n",
              "  </tbody>\n",
              "</table>\n",
              "</div>\n",
              "      <button class=\"colab-df-convert\" onclick=\"convertToInteractive('df-e4c5873b-0418-49b8-82ea-d84045c89578')\"\n",
              "              title=\"Convert this dataframe to an interactive table.\"\n",
              "              style=\"display:none;\">\n",
              "        \n",
              "  <svg xmlns=\"http://www.w3.org/2000/svg\" height=\"24px\"viewBox=\"0 0 24 24\"\n",
              "       width=\"24px\">\n",
              "    <path d=\"M0 0h24v24H0V0z\" fill=\"none\"/>\n",
              "    <path d=\"M18.56 5.44l.94 2.06.94-2.06 2.06-.94-2.06-.94-.94-2.06-.94 2.06-2.06.94zm-11 1L8.5 8.5l.94-2.06 2.06-.94-2.06-.94L8.5 2.5l-.94 2.06-2.06.94zm10 10l.94 2.06.94-2.06 2.06-.94-2.06-.94-.94-2.06-.94 2.06-2.06.94z\"/><path d=\"M17.41 7.96l-1.37-1.37c-.4-.4-.92-.59-1.43-.59-.52 0-1.04.2-1.43.59L10.3 9.45l-7.72 7.72c-.78.78-.78 2.05 0 2.83L4 21.41c.39.39.9.59 1.41.59.51 0 1.02-.2 1.41-.59l7.78-7.78 2.81-2.81c.8-.78.8-2.07 0-2.86zM5.41 20L4 18.59l7.72-7.72 1.47 1.35L5.41 20z\"/>\n",
              "  </svg>\n",
              "      </button>\n",
              "      \n",
              "  <style>\n",
              "    .colab-df-container {\n",
              "      display:flex;\n",
              "      flex-wrap:wrap;\n",
              "      gap: 12px;\n",
              "    }\n",
              "\n",
              "    .colab-df-convert {\n",
              "      background-color: #E8F0FE;\n",
              "      border: none;\n",
              "      border-radius: 50%;\n",
              "      cursor: pointer;\n",
              "      display: none;\n",
              "      fill: #1967D2;\n",
              "      height: 32px;\n",
              "      padding: 0 0 0 0;\n",
              "      width: 32px;\n",
              "    }\n",
              "\n",
              "    .colab-df-convert:hover {\n",
              "      background-color: #E2EBFA;\n",
              "      box-shadow: 0px 1px 2px rgba(60, 64, 67, 0.3), 0px 1px 3px 1px rgba(60, 64, 67, 0.15);\n",
              "      fill: #174EA6;\n",
              "    }\n",
              "\n",
              "    [theme=dark] .colab-df-convert {\n",
              "      background-color: #3B4455;\n",
              "      fill: #D2E3FC;\n",
              "    }\n",
              "\n",
              "    [theme=dark] .colab-df-convert:hover {\n",
              "      background-color: #434B5C;\n",
              "      box-shadow: 0px 1px 3px 1px rgba(0, 0, 0, 0.15);\n",
              "      filter: drop-shadow(0px 1px 2px rgba(0, 0, 0, 0.3));\n",
              "      fill: #FFFFFF;\n",
              "    }\n",
              "  </style>\n",
              "\n",
              "      <script>\n",
              "        const buttonEl =\n",
              "          document.querySelector('#df-e4c5873b-0418-49b8-82ea-d84045c89578 button.colab-df-convert');\n",
              "        buttonEl.style.display =\n",
              "          google.colab.kernel.accessAllowed ? 'block' : 'none';\n",
              "\n",
              "        async function convertToInteractive(key) {\n",
              "          const element = document.querySelector('#df-e4c5873b-0418-49b8-82ea-d84045c89578');\n",
              "          const dataTable =\n",
              "            await google.colab.kernel.invokeFunction('convertToInteractive',\n",
              "                                                     [key], {});\n",
              "          if (!dataTable) return;\n",
              "\n",
              "          const docLinkHtml = 'Like what you see? Visit the ' +\n",
              "            '<a target=\"_blank\" href=https://colab.research.google.com/notebooks/data_table.ipynb>data table notebook</a>'\n",
              "            + ' to learn more about interactive tables.';\n",
              "          element.innerHTML = '';\n",
              "          dataTable['output_type'] = 'display_data';\n",
              "          await google.colab.output.renderOutput(dataTable, element);\n",
              "          const docLink = document.createElement('div');\n",
              "          docLink.innerHTML = docLinkHtml;\n",
              "          element.appendChild(docLink);\n",
              "        }\n",
              "      </script>\n",
              "    </div>\n",
              "  </div>\n",
              "  "
            ],
            "text/plain": [
              "            Order No       User Id Vehicle Type  Platform Type  \\\n",
              "1655   Order_No_1071   User_Id_238         Bike              3   \n",
              "19251  Order_No_3293  User_Id_3147         Bike              3   \n",
              "11718   Order_No_545  User_Id_2229         Bike              3   \n",
              "\n",
              "      Personal or Business  Placement - Day of Month  \\\n",
              "1655              Business                        22   \n",
              "19251             Business                        12   \n",
              "11718             Business                        10   \n",
              "\n",
              "       Placement - Weekday (Mo = 1) Placement - Time  \\\n",
              "1655                              5      11:29:33 AM   \n",
              "19251                             2      12:37:29 PM   \n",
              "11718                             1       9:10:46 AM   \n",
              "\n",
              "       Confirmation - Day of Month  Confirmation - Weekday (Mo = 1)  \\\n",
              "1655                            22                                5   \n",
              "19251                           12                                2   \n",
              "11718                           10                                1   \n",
              "\n",
              "      Confirmation - Time  Arrival at Pickup - Day of Month  \\\n",
              "1655          11:29:58 AM                                22   \n",
              "19251         12:38:16 PM                                12   \n",
              "11718          9:11:21 AM                                10   \n",
              "\n",
              "       Arrival at Pickup - Weekday (Mo = 1) Arrival at Pickup - Time  \\\n",
              "1655                                      5              11:36:53 AM   \n",
              "19251                                     2               1:22:16 PM   \n",
              "11718                                     1               9:58:44 AM   \n",
              "\n",
              "       Pickup - Day of Month  Pickup - Weekday (Mo = 1) Pickup - Time  \\\n",
              "1655                      22                          5   11:39:23 AM   \n",
              "19251                     12                          2    1:30:30 PM   \n",
              "11718                     10                          1   10:10:19 AM   \n",
              "\n",
              "       Arrival at Destination - Day of Month  \\\n",
              "1655                                      22   \n",
              "19251                                     12   \n",
              "11718                                     10   \n",
              "\n",
              "       Arrival at Destination - Weekday (Mo = 1)  \\\n",
              "1655                                           5   \n",
              "19251                                          2   \n",
              "11718                                          1   \n",
              "\n",
              "      Arrival at Destination - Time  Distance (KM)  Temperature  \\\n",
              "1655                    12:04:45 PM             15          NaN   \n",
              "19251                    1:42:02 PM              4         24.7   \n",
              "11718                   10:52:34 AM             20         16.4   \n",
              "\n",
              "       Precipitation in millimeters  Pickup Lat  Pickup Long  Destination Lat  \\\n",
              "1655                            NaN   -1.307787    36.844321        -1.362953   \n",
              "19251                           NaN   -1.347207    36.769264        -1.320511   \n",
              "11718                           NaN   -1.324768    36.858030        -1.236702   \n",
              "\n",
              "       Destination Long      Rider Id  Time from Pickup to Arrival  \n",
              "1655          36.904214  Rider_Id_114                         1522  \n",
              "19251         36.780102  Rider_Id_328                          692  \n",
              "11718         36.875872   Rider_Id_48                         2535  "
            ]
          },
          "execution_count": 192,
          "metadata": {},
          "output_type": "execute_result"
        }
      ],
      "source": [
        "# loading and previewing dataset\n",
        "df = pd.read_csv('https://bit.ly/3deaKEM')\n",
        "df.sample(3)"
      ]
    },
    {
      "cell_type": "code",
      "execution_count": 187,
      "metadata": {
        "colab": {
          "base_uri": "https://localhost:8080/",
          "height": 206
        },
        "id": "8nHmaa4tBiUL",
        "outputId": "f059f11c-1844-4196-ce3f-3ab2b2f84c65"
      },
      "outputs": [
        {
          "data": {
            "text/html": [
              "\n",
              "  <div id=\"df-227de2fb-6856-4140-82b8-895b7169e228\">\n",
              "    <div class=\"colab-df-container\">\n",
              "      <div>\n",
              "<style scoped>\n",
              "    .dataframe tbody tr th:only-of-type {\n",
              "        vertical-align: middle;\n",
              "    }\n",
              "\n",
              "    .dataframe tbody tr th {\n",
              "        vertical-align: top;\n",
              "    }\n",
              "\n",
              "    .dataframe thead th {\n",
              "        text-align: right;\n",
              "    }\n",
              "</style>\n",
              "<table border=\"1\" class=\"dataframe\">\n",
              "  <thead>\n",
              "    <tr style=\"text-align: right;\">\n",
              "      <th></th>\n",
              "      <th>0</th>\n",
              "      <th>1</th>\n",
              "    </tr>\n",
              "  </thead>\n",
              "  <tbody>\n",
              "    <tr>\n",
              "      <th>0</th>\n",
              "      <td>Order No</td>\n",
              "      <td>Unique number identifying the order</td>\n",
              "    </tr>\n",
              "    <tr>\n",
              "      <th>1</th>\n",
              "      <td>User Id</td>\n",
              "      <td>Unique number identifying the customer on a platform</td>\n",
              "    </tr>\n",
              "    <tr>\n",
              "      <th>2</th>\n",
              "      <td>Vehicle Type</td>\n",
              "      <td>For this competition limited to bikes, however in practice Sendy service extends to trucks and vans</td>\n",
              "    </tr>\n",
              "    <tr>\n",
              "      <th>3</th>\n",
              "      <td>Platform Type</td>\n",
              "      <td>Platform used to place the order, there are 4 types</td>\n",
              "    </tr>\n",
              "    <tr>\n",
              "      <th>4</th>\n",
              "      <td>Personal or Business</td>\n",
              "      <td>Customer type</td>\n",
              "    </tr>\n",
              "  </tbody>\n",
              "</table>\n",
              "</div>\n",
              "      <button class=\"colab-df-convert\" onclick=\"convertToInteractive('df-227de2fb-6856-4140-82b8-895b7169e228')\"\n",
              "              title=\"Convert this dataframe to an interactive table.\"\n",
              "              style=\"display:none;\">\n",
              "        \n",
              "  <svg xmlns=\"http://www.w3.org/2000/svg\" height=\"24px\"viewBox=\"0 0 24 24\"\n",
              "       width=\"24px\">\n",
              "    <path d=\"M0 0h24v24H0V0z\" fill=\"none\"/>\n",
              "    <path d=\"M18.56 5.44l.94 2.06.94-2.06 2.06-.94-2.06-.94-.94-2.06-.94 2.06-2.06.94zm-11 1L8.5 8.5l.94-2.06 2.06-.94-2.06-.94L8.5 2.5l-.94 2.06-2.06.94zm10 10l.94 2.06.94-2.06 2.06-.94-2.06-.94-.94-2.06-.94 2.06-2.06.94z\"/><path d=\"M17.41 7.96l-1.37-1.37c-.4-.4-.92-.59-1.43-.59-.52 0-1.04.2-1.43.59L10.3 9.45l-7.72 7.72c-.78.78-.78 2.05 0 2.83L4 21.41c.39.39.9.59 1.41.59.51 0 1.02-.2 1.41-.59l7.78-7.78 2.81-2.81c.8-.78.8-2.07 0-2.86zM5.41 20L4 18.59l7.72-7.72 1.47 1.35L5.41 20z\"/>\n",
              "  </svg>\n",
              "      </button>\n",
              "      \n",
              "  <style>\n",
              "    .colab-df-container {\n",
              "      display:flex;\n",
              "      flex-wrap:wrap;\n",
              "      gap: 12px;\n",
              "    }\n",
              "\n",
              "    .colab-df-convert {\n",
              "      background-color: #E8F0FE;\n",
              "      border: none;\n",
              "      border-radius: 50%;\n",
              "      cursor: pointer;\n",
              "      display: none;\n",
              "      fill: #1967D2;\n",
              "      height: 32px;\n",
              "      padding: 0 0 0 0;\n",
              "      width: 32px;\n",
              "    }\n",
              "\n",
              "    .colab-df-convert:hover {\n",
              "      background-color: #E2EBFA;\n",
              "      box-shadow: 0px 1px 2px rgba(60, 64, 67, 0.3), 0px 1px 3px 1px rgba(60, 64, 67, 0.15);\n",
              "      fill: #174EA6;\n",
              "    }\n",
              "\n",
              "    [theme=dark] .colab-df-convert {\n",
              "      background-color: #3B4455;\n",
              "      fill: #D2E3FC;\n",
              "    }\n",
              "\n",
              "    [theme=dark] .colab-df-convert:hover {\n",
              "      background-color: #434B5C;\n",
              "      box-shadow: 0px 1px 3px 1px rgba(0, 0, 0, 0.15);\n",
              "      filter: drop-shadow(0px 1px 2px rgba(0, 0, 0, 0.3));\n",
              "      fill: #FFFFFF;\n",
              "    }\n",
              "  </style>\n",
              "\n",
              "      <script>\n",
              "        const buttonEl =\n",
              "          document.querySelector('#df-227de2fb-6856-4140-82b8-895b7169e228 button.colab-df-convert');\n",
              "        buttonEl.style.display =\n",
              "          google.colab.kernel.accessAllowed ? 'block' : 'none';\n",
              "\n",
              "        async function convertToInteractive(key) {\n",
              "          const element = document.querySelector('#df-227de2fb-6856-4140-82b8-895b7169e228');\n",
              "          const dataTable =\n",
              "            await google.colab.kernel.invokeFunction('convertToInteractive',\n",
              "                                                     [key], {});\n",
              "          if (!dataTable) return;\n",
              "\n",
              "          const docLinkHtml = 'Like what you see? Visit the ' +\n",
              "            '<a target=\"_blank\" href=https://colab.research.google.com/notebooks/data_table.ipynb>data table notebook</a>'\n",
              "            + ' to learn more about interactive tables.';\n",
              "          element.innerHTML = '';\n",
              "          dataTable['output_type'] = 'display_data';\n",
              "          await google.colab.output.renderOutput(dataTable, element);\n",
              "          const docLink = document.createElement('div');\n",
              "          docLink.innerHTML = docLinkHtml;\n",
              "          element.appendChild(docLink);\n",
              "        }\n",
              "      </script>\n",
              "    </div>\n",
              "  </div>\n",
              "  "
            ],
            "text/plain": [
              "                      0  \\\n",
              "0              Order No   \n",
              "1               User Id   \n",
              "2          Vehicle Type   \n",
              "3         Platform Type   \n",
              "4  Personal or Business   \n",
              "\n",
              "                                                                                                     1  \n",
              "0                                                                  Unique number identifying the order  \n",
              "1                                                 Unique number identifying the customer on a platform  \n",
              "2  For this competition limited to bikes, however in practice Sendy service extends to trucks and vans  \n",
              "3                                                  Platform used to place the order, there are 4 types  \n",
              "4                                                                                        Customer type  "
            ]
          },
          "execution_count": 187,
          "metadata": {},
          "output_type": "execute_result"
        }
      ],
      "source": [
        "# loading glossary\n",
        "glossary = pd.read_csv('https://bit.ly/30O3xsr', header = None)\n",
        "glossary.head(5)"
      ]
    },
    {
      "cell_type": "code",
      "execution_count": 188,
      "metadata": {
        "colab": {
          "base_uri": "https://localhost:8080/"
        },
        "id": "6YLlPK34BiUS",
        "outputId": "b2cd9866-2468-4ba0-fc9b-d2917ee8d330"
      },
      "outputs": [
        {
          "data": {
            "text/plain": [
              "(21201, 29)"
            ]
          },
          "execution_count": 188,
          "metadata": {},
          "output_type": "execute_result"
        }
      ],
      "source": [
        "# checking dataset shape\n",
        "df.shape"
      ]
    },
    {
      "cell_type": "code",
      "execution_count": 107,
      "metadata": {
        "colab": {
          "base_uri": "https://localhost:8080/"
        },
        "id": "wSszt42KBiUX",
        "outputId": "8166099a-6c77-457a-f496-8189c46766ac"
      },
      "outputs": [
        {
          "data": {
            "text/plain": [
              "Order No                                      object\n",
              "User Id                                       object\n",
              "Vehicle Type                                  object\n",
              "Platform Type                                  int64\n",
              "Personal or Business                          object\n",
              "Placement - Day of Month                       int64\n",
              "Placement - Weekday (Mo = 1)                   int64\n",
              "Placement - Time                              object\n",
              "Confirmation - Day of Month                    int64\n",
              "Confirmation - Weekday (Mo = 1)                int64\n",
              "Confirmation - Time                           object\n",
              "Arrival at Pickup - Day of Month               int64\n",
              "Arrival at Pickup - Weekday (Mo = 1)           int64\n",
              "Arrival at Pickup - Time                      object\n",
              "Pickup - Day of Month                          int64\n",
              "Pickup - Weekday (Mo = 1)                      int64\n",
              "Pickup - Time                                 object\n",
              "Arrival at Destination - Day of Month          int64\n",
              "Arrival at Destination - Weekday (Mo = 1)      int64\n",
              "Arrival at Destination - Time                 object\n",
              "Distance (KM)                                  int64\n",
              "Temperature                                  float64\n",
              "Precipitation in millimeters                 float64\n",
              "Pickup Lat                                   float64\n",
              "Pickup Long                                  float64\n",
              "Destination Lat                              float64\n",
              "Destination Long                             float64\n",
              "Rider Id                                      object\n",
              "Time from Pickup to Arrival                    int64\n",
              "dtype: object"
            ]
          },
          "execution_count": 107,
          "metadata": {},
          "output_type": "execute_result"
        }
      ],
      "source": [
        "# checking data types\n",
        "df.dtypes"
      ]
    },
    {
      "cell_type": "code",
      "execution_count": 193,
      "metadata": {
        "id": "TSntRcwDBiUg"
      },
      "outputs": [],
      "source": [
        "#convert 'Personal or Business' column into numerical\n",
        "\n",
        "df['Personal or Business'] = df['Personal or Business'].replace({'Business' : 1, 'Personal' : 0})"
      ]
    },
    {
      "cell_type": "code",
      "execution_count": 194,
      "metadata": {
        "id": "7dxgmX6K8BUm"
      },
      "outputs": [],
      "source": [
        "#obtain numeric value from rider id\n",
        "df[['Rider','id','Rider Id']]=df['Rider Id'].str.split('_', expand=True)\n"
      ]
    },
    {
      "cell_type": "code",
      "execution_count": 118,
      "metadata": {
        "colab": {
          "base_uri": "https://localhost:8080/"
        },
        "id": "GPg8080YzEus",
        "outputId": "0ce4de8e-5be8-4e8c-b35c-b4420eab0993"
      },
      "outputs": [
        {
          "data": {
            "text/plain": [
              "Platform Type                                   0\n",
              "Personal or Business                            0\n",
              "Placement - Day of Month                        0\n",
              "Placement - Weekday (Mo = 1)                    0\n",
              "Confirmation - Day of Month                     0\n",
              "Confirmation - Weekday (Mo = 1)                 0\n",
              "Arrival at Pickup - Day of Month                0\n",
              "Arrival at Pickup - Weekday (Mo = 1)            0\n",
              "Pickup - Day of Month                           0\n",
              "Pickup - Weekday (Mo = 1)                       0\n",
              "Arrival at Destination - Day of Month           0\n",
              "Arrival at Destination - Weekday (Mo = 1)       0\n",
              "Distance (KM)                                   0\n",
              "Temperature                                  4366\n",
              "Rider Id                                        0\n",
              "Time from Pickup to Arrival                     0\n",
              "Rider                                           0\n",
              "id                                              0\n",
              "dtype: int64"
            ]
          },
          "execution_count": 118,
          "metadata": {},
          "output_type": "execute_result"
        }
      ],
      "source": [
        "df.isnull().sum()"
      ]
    },
    {
      "cell_type": "code",
      "execution_count": 195,
      "metadata": {
        "id": "_QmYqyYwznvC"
      },
      "outputs": [],
      "source": [
        "#replacing null values in temperature with mode\n",
        "\n",
        "df['Temperature'].fillna(df['Temperature'].mode()[0], inplace=True)"
      ]
    },
    {
      "cell_type": "code",
      "execution_count": 197,
      "metadata": {
        "id": "Qb8bnscc-Mq3"
      },
      "outputs": [],
      "source": [
        "\n",
        "#selecting useful columns\n",
        "df=df[['Platform Type', 'Personal or Business','Placement - Day of Month','Placement - Weekday (Mo = 1)','Confirmation - Day of Month', 'Confirmation - Weekday (Mo = 1)', 'Arrival at Pickup - Day of Month','Arrival at Pickup - Weekday (Mo = 1)', 'Pickup - Day of Month', 'Pickup - Weekday (Mo = 1)', 'Arrival at Destination - Day of Month','Arrival at Destination - Weekday (Mo = 1)','Distance (KM)','Temperature','Rider Id', 'Time from Pickup to Arrival']]\n"
      ]
    },
    {
      "cell_type": "code",
      "execution_count": 198,
      "metadata": {
        "colab": {
          "base_uri": "https://localhost:8080/"
        },
        "id": "Hndjo6X0uqiO",
        "outputId": "9636f3b0-5e3c-4d20-c692-e876908d712a"
      },
      "outputs": [
        {
          "name": "stdout",
          "output_type": "stream",
          "text": [
            "(5170, 16)\n"
          ]
        },
        {
          "data": {
            "text/plain": [
              "(5170, 16)"
            ]
          },
          "execution_count": 198,
          "metadata": {},
          "output_type": "execute_result"
        }
      ],
      "source": [
        "# getting the records with outliers\n",
        "q1 = df.quantile(0.25)\n",
        "q3 = df.quantile(0.75)\n",
        "iqr = q3 - q1\n",
        "\n",
        "outliers_df = df[((df < (q1 - 1.5 * iqr)) | (df > (q3 + 1.5 * iqr))).any(axis = 1)]\n",
        "print(outliers_df.shape)\n",
        "outliers_df.shape"
      ]
    },
    {
      "cell_type": "code",
      "execution_count": 199,
      "metadata": {
        "colab": {
          "base_uri": "https://localhost:8080/"
        },
        "id": "D1AvIPbhvEok",
        "outputId": "ede21bcf-afb1-41c2-df0c-4432d486553d"
      },
      "outputs": [
        {
          "data": {
            "text/plain": [
              "(21201, 16)"
            ]
          },
          "execution_count": 199,
          "metadata": {},
          "output_type": "execute_result"
        }
      ],
      "source": [
        "df.shape"
      ]
    },
    {
      "cell_type": "code",
      "execution_count": 200,
      "metadata": {
        "id": "FsrrMQV10iDJ"
      },
      "outputs": [],
      "source": [
        "#changing object columns into int\n",
        "df['Personal or Business']= df['Personal or Business'].astype(int)\n",
        "df['Rider Id'] = df['Rider Id'].astype(int)\n",
        "\n",
        "\n"
      ]
    },
    {
      "cell_type": "code",
      "execution_count": 201,
      "metadata": {
        "colab": {
          "base_uri": "https://localhost:8080/",
          "height": 374
        },
        "id": "Ch4D1Y_p1tNK",
        "outputId": "f7e215ea-121c-496d-ba94-0fa5bc3938d7"
      },
      "outputs": [
        {
          "data": {
            "text/html": [
              "\n",
              "  <div id=\"df-76bf352f-96df-437c-ac2c-f7f631139b4a\">\n",
              "    <div class=\"colab-df-container\">\n",
              "      <div>\n",
              "<style scoped>\n",
              "    .dataframe tbody tr th:only-of-type {\n",
              "        vertical-align: middle;\n",
              "    }\n",
              "\n",
              "    .dataframe tbody tr th {\n",
              "        vertical-align: top;\n",
              "    }\n",
              "\n",
              "    .dataframe thead th {\n",
              "        text-align: right;\n",
              "    }\n",
              "</style>\n",
              "<table border=\"1\" class=\"dataframe\">\n",
              "  <thead>\n",
              "    <tr style=\"text-align: right;\">\n",
              "      <th></th>\n",
              "      <th>Platform Type</th>\n",
              "      <th>Personal or Business</th>\n",
              "      <th>Placement - Day of Month</th>\n",
              "      <th>Placement - Weekday (Mo = 1)</th>\n",
              "      <th>Confirmation - Day of Month</th>\n",
              "      <th>Confirmation - Weekday (Mo = 1)</th>\n",
              "      <th>Arrival at Pickup - Day of Month</th>\n",
              "      <th>Arrival at Pickup - Weekday (Mo = 1)</th>\n",
              "      <th>Pickup - Day of Month</th>\n",
              "      <th>Pickup - Weekday (Mo = 1)</th>\n",
              "      <th>Arrival at Destination - Day of Month</th>\n",
              "      <th>Arrival at Destination - Weekday (Mo = 1)</th>\n",
              "      <th>Distance (KM)</th>\n",
              "      <th>Temperature</th>\n",
              "      <th>Rider Id</th>\n",
              "      <th>Time from Pickup to Arrival</th>\n",
              "    </tr>\n",
              "  </thead>\n",
              "  <tbody>\n",
              "    <tr>\n",
              "      <th>0</th>\n",
              "      <td>3</td>\n",
              "      <td>1</td>\n",
              "      <td>9</td>\n",
              "      <td>5</td>\n",
              "      <td>9</td>\n",
              "      <td>5</td>\n",
              "      <td>9</td>\n",
              "      <td>5</td>\n",
              "      <td>9</td>\n",
              "      <td>5</td>\n",
              "      <td>9</td>\n",
              "      <td>5</td>\n",
              "      <td>4</td>\n",
              "      <td>20.4</td>\n",
              "      <td>432</td>\n",
              "      <td>745</td>\n",
              "    </tr>\n",
              "    <tr>\n",
              "      <th>1</th>\n",
              "      <td>3</td>\n",
              "      <td>0</td>\n",
              "      <td>12</td>\n",
              "      <td>5</td>\n",
              "      <td>12</td>\n",
              "      <td>5</td>\n",
              "      <td>12</td>\n",
              "      <td>5</td>\n",
              "      <td>12</td>\n",
              "      <td>5</td>\n",
              "      <td>12</td>\n",
              "      <td>5</td>\n",
              "      <td>16</td>\n",
              "      <td>26.4</td>\n",
              "      <td>856</td>\n",
              "      <td>1993</td>\n",
              "    </tr>\n",
              "    <tr>\n",
              "      <th>2</th>\n",
              "      <td>3</td>\n",
              "      <td>1</td>\n",
              "      <td>30</td>\n",
              "      <td>2</td>\n",
              "      <td>30</td>\n",
              "      <td>2</td>\n",
              "      <td>30</td>\n",
              "      <td>2</td>\n",
              "      <td>30</td>\n",
              "      <td>2</td>\n",
              "      <td>30</td>\n",
              "      <td>2</td>\n",
              "      <td>3</td>\n",
              "      <td>24.7</td>\n",
              "      <td>155</td>\n",
              "      <td>455</td>\n",
              "    </tr>\n",
              "    <tr>\n",
              "      <th>3</th>\n",
              "      <td>3</td>\n",
              "      <td>1</td>\n",
              "      <td>15</td>\n",
              "      <td>5</td>\n",
              "      <td>15</td>\n",
              "      <td>5</td>\n",
              "      <td>15</td>\n",
              "      <td>5</td>\n",
              "      <td>15</td>\n",
              "      <td>5</td>\n",
              "      <td>15</td>\n",
              "      <td>5</td>\n",
              "      <td>9</td>\n",
              "      <td>19.2</td>\n",
              "      <td>855</td>\n",
              "      <td>1341</td>\n",
              "    </tr>\n",
              "    <tr>\n",
              "      <th>4</th>\n",
              "      <td>1</td>\n",
              "      <td>0</td>\n",
              "      <td>13</td>\n",
              "      <td>1</td>\n",
              "      <td>13</td>\n",
              "      <td>1</td>\n",
              "      <td>13</td>\n",
              "      <td>1</td>\n",
              "      <td>13</td>\n",
              "      <td>1</td>\n",
              "      <td>13</td>\n",
              "      <td>1</td>\n",
              "      <td>9</td>\n",
              "      <td>15.4</td>\n",
              "      <td>770</td>\n",
              "      <td>1214</td>\n",
              "    </tr>\n",
              "  </tbody>\n",
              "</table>\n",
              "</div>\n",
              "      <button class=\"colab-df-convert\" onclick=\"convertToInteractive('df-76bf352f-96df-437c-ac2c-f7f631139b4a')\"\n",
              "              title=\"Convert this dataframe to an interactive table.\"\n",
              "              style=\"display:none;\">\n",
              "        \n",
              "  <svg xmlns=\"http://www.w3.org/2000/svg\" height=\"24px\"viewBox=\"0 0 24 24\"\n",
              "       width=\"24px\">\n",
              "    <path d=\"M0 0h24v24H0V0z\" fill=\"none\"/>\n",
              "    <path d=\"M18.56 5.44l.94 2.06.94-2.06 2.06-.94-2.06-.94-.94-2.06-.94 2.06-2.06.94zm-11 1L8.5 8.5l.94-2.06 2.06-.94-2.06-.94L8.5 2.5l-.94 2.06-2.06.94zm10 10l.94 2.06.94-2.06 2.06-.94-2.06-.94-.94-2.06-.94 2.06-2.06.94z\"/><path d=\"M17.41 7.96l-1.37-1.37c-.4-.4-.92-.59-1.43-.59-.52 0-1.04.2-1.43.59L10.3 9.45l-7.72 7.72c-.78.78-.78 2.05 0 2.83L4 21.41c.39.39.9.59 1.41.59.51 0 1.02-.2 1.41-.59l7.78-7.78 2.81-2.81c.8-.78.8-2.07 0-2.86zM5.41 20L4 18.59l7.72-7.72 1.47 1.35L5.41 20z\"/>\n",
              "  </svg>\n",
              "      </button>\n",
              "      \n",
              "  <style>\n",
              "    .colab-df-container {\n",
              "      display:flex;\n",
              "      flex-wrap:wrap;\n",
              "      gap: 12px;\n",
              "    }\n",
              "\n",
              "    .colab-df-convert {\n",
              "      background-color: #E8F0FE;\n",
              "      border: none;\n",
              "      border-radius: 50%;\n",
              "      cursor: pointer;\n",
              "      display: none;\n",
              "      fill: #1967D2;\n",
              "      height: 32px;\n",
              "      padding: 0 0 0 0;\n",
              "      width: 32px;\n",
              "    }\n",
              "\n",
              "    .colab-df-convert:hover {\n",
              "      background-color: #E2EBFA;\n",
              "      box-shadow: 0px 1px 2px rgba(60, 64, 67, 0.3), 0px 1px 3px 1px rgba(60, 64, 67, 0.15);\n",
              "      fill: #174EA6;\n",
              "    }\n",
              "\n",
              "    [theme=dark] .colab-df-convert {\n",
              "      background-color: #3B4455;\n",
              "      fill: #D2E3FC;\n",
              "    }\n",
              "\n",
              "    [theme=dark] .colab-df-convert:hover {\n",
              "      background-color: #434B5C;\n",
              "      box-shadow: 0px 1px 3px 1px rgba(0, 0, 0, 0.15);\n",
              "      filter: drop-shadow(0px 1px 2px rgba(0, 0, 0, 0.3));\n",
              "      fill: #FFFFFF;\n",
              "    }\n",
              "  </style>\n",
              "\n",
              "      <script>\n",
              "        const buttonEl =\n",
              "          document.querySelector('#df-76bf352f-96df-437c-ac2c-f7f631139b4a button.colab-df-convert');\n",
              "        buttonEl.style.display =\n",
              "          google.colab.kernel.accessAllowed ? 'block' : 'none';\n",
              "\n",
              "        async function convertToInteractive(key) {\n",
              "          const element = document.querySelector('#df-76bf352f-96df-437c-ac2c-f7f631139b4a');\n",
              "          const dataTable =\n",
              "            await google.colab.kernel.invokeFunction('convertToInteractive',\n",
              "                                                     [key], {});\n",
              "          if (!dataTable) return;\n",
              "\n",
              "          const docLinkHtml = 'Like what you see? Visit the ' +\n",
              "            '<a target=\"_blank\" href=https://colab.research.google.com/notebooks/data_table.ipynb>data table notebook</a>'\n",
              "            + ' to learn more about interactive tables.';\n",
              "          element.innerHTML = '';\n",
              "          dataTable['output_type'] = 'display_data';\n",
              "          await google.colab.output.renderOutput(dataTable, element);\n",
              "          const docLink = document.createElement('div');\n",
              "          docLink.innerHTML = docLinkHtml;\n",
              "          element.appendChild(docLink);\n",
              "        }\n",
              "      </script>\n",
              "    </div>\n",
              "  </div>\n",
              "  "
            ],
            "text/plain": [
              "   Platform Type  Personal or Business  Placement - Day of Month  \\\n",
              "0              3                     1                         9   \n",
              "1              3                     0                        12   \n",
              "2              3                     1                        30   \n",
              "3              3                     1                        15   \n",
              "4              1                     0                        13   \n",
              "\n",
              "   Placement - Weekday (Mo = 1)  Confirmation - Day of Month  \\\n",
              "0                             5                            9   \n",
              "1                             5                           12   \n",
              "2                             2                           30   \n",
              "3                             5                           15   \n",
              "4                             1                           13   \n",
              "\n",
              "   Confirmation - Weekday (Mo = 1)  Arrival at Pickup - Day of Month  \\\n",
              "0                                5                                 9   \n",
              "1                                5                                12   \n",
              "2                                2                                30   \n",
              "3                                5                                15   \n",
              "4                                1                                13   \n",
              "\n",
              "   Arrival at Pickup - Weekday (Mo = 1)  Pickup - Day of Month  \\\n",
              "0                                     5                      9   \n",
              "1                                     5                     12   \n",
              "2                                     2                     30   \n",
              "3                                     5                     15   \n",
              "4                                     1                     13   \n",
              "\n",
              "   Pickup - Weekday (Mo = 1)  Arrival at Destination - Day of Month  \\\n",
              "0                          5                                      9   \n",
              "1                          5                                     12   \n",
              "2                          2                                     30   \n",
              "3                          5                                     15   \n",
              "4                          1                                     13   \n",
              "\n",
              "   Arrival at Destination - Weekday (Mo = 1)  Distance (KM)  Temperature  \\\n",
              "0                                          5              4         20.4   \n",
              "1                                          5             16         26.4   \n",
              "2                                          2              3         24.7   \n",
              "3                                          5              9         19.2   \n",
              "4                                          1              9         15.4   \n",
              "\n",
              "   Rider Id  Time from Pickup to Arrival  \n",
              "0       432                          745  \n",
              "1       856                         1993  \n",
              "2       155                          455  \n",
              "3       855                         1341  \n",
              "4       770                         1214  "
            ]
          },
          "execution_count": 201,
          "metadata": {},
          "output_type": "execute_result"
        }
      ],
      "source": [
        "#previewing df\n",
        "\n",
        "df.head()"
      ]
    },
    {
      "cell_type": "markdown",
      "metadata": {
        "id": "sxUxBnz5vewl"
      },
      "source": [
        "# <font color='#2F4F4F'>2.Analysis</font>"
      ]
    },
    {
      "cell_type": "code",
      "execution_count": 203,
      "metadata": {
        "colab": {
          "base_uri": "https://localhost:8080/"
        },
        "id": "PXUiLxWvMfuS",
        "outputId": "2f3471ba-7cbe-4fe0-e315-db3fbd072006"
      },
      "outputs": [
        {
          "data": {
            "text/plain": [
              "Personal or Business\n",
              "0    1585.056327\n",
              "1    1550.743270\n",
              "Name: Time from Pickup to Arrival, dtype: float64"
            ]
          },
          "execution_count": 203,
          "metadata": {},
          "output_type": "execute_result"
        }
      ],
      "source": [
        "# average delivery time per Customer Type\n",
        "df.groupby('Personal or Business')['Time from Pickup to Arrival'].mean().sort_values(ascending = False)\n"
      ]
    },
    {
      "cell_type": "markdown",
      "metadata": {
        "id": "l1ciT2WtBiVv"
      },
      "source": [
        "# <font color='#2F4F4F'>2. Data Modeling</font>"
      ]
    },
    {
      "cell_type": "code",
      "execution_count": 162,
      "metadata": {
        "colab": {
          "base_uri": "https://localhost:8080/"
        },
        "id": "p5etKU12BiVv",
        "outputId": "9994a2dd-9fa9-4553-e5c1-4b505147effe"
      },
      "outputs": [
        {
          "name": "stdout",
          "output_type": "stream",
          "text": [
            "[21:17:01] WARNING: /workspace/src/objective/regression_obj.cu:152: reg:linear is now deprecated in favor of reg:squarederror.\n",
            "800.566547066277\n"
          ]
        }
      ],
      "source": [
        "import warnings\n",
        "warnings.filterwarnings(\"ignore\")\n",
        "\n",
        "# importing utility modules\n",
        "from sklearn.model_selection import train_test_split\n",
        "from sklearn.metrics import mean_squared_error\n",
        " \n",
        "# importing machine learning models for prediction\n",
        "from sklearn.ensemble import RandomForestRegressor\n",
        "import xgboost as xgb\n",
        "from sklearn.linear_model import LinearRegression\n",
        " \n",
        "\n",
        " \n",
        "# getting target  from the dataframe\n",
        "y = df[\"Time from Pickup to Arrival\"]\n",
        " \n",
        "# getting features from the dataframe\n",
        "X = df.drop(columns=[\"Time from Pickup to Arrival\"])\n",
        " \n",
        "# Splitting between train data into training and validation dataset\n",
        "X_train, X_test, y_train, y_test = train_test_split(\n",
        "    X, y, test_size=0.20)\n",
        " \n",
        "# initializing all the model objects with default parameters\n",
        "model_1 = LinearRegression()\n",
        "model_2 = xgb.XGBRegressor()\n",
        "model_3 = RandomForestRegressor()\n",
        " \n",
        "# training all the model on the training dataset\n",
        "model_1.fit(X_train, y_train)\n",
        "model_2.fit(X_train, y_train)\n",
        "model_3.fit(X_train, y_train)\n",
        " \n",
        "# predicting the output on the validation dataset\n",
        "Precd_one = model_1.predict(X_test)\n",
        "Precd_two = model_2.predict(X_test)\n",
        "Precd_three = model_3.predict(X_test)\n",
        " \n",
        "# final prediction after averaging on the prediction of all 3 models\n",
        "pred_final = (Precd_one+Precd_two+Precd_three)/3.0\n",
        " \n",
        "# printing the root mean squared error between real value and predicted value\n",
        "print(np.sqrt(mean_squared_error(y_test, pred_final)))"
      ]
    },
    {
      "cell_type": "markdown",
      "metadata": {
        "id": "es4RooNMBiV4"
      },
      "source": [
        "## 3. Feature Engineering"
      ]
    },
    {
      "cell_type": "code",
      "execution_count": 175,
      "metadata": {
        "colab": {
          "base_uri": "https://localhost:8080/"
        },
        "id": "-MxBN7HL6PJ8",
        "outputId": "f405bb78-142e-4990-a48a-bafdf447e351"
      },
      "outputs": [
        {
          "data": {
            "text/plain": [
              "(21201, 16)"
            ]
          },
          "execution_count": 175,
          "metadata": {},
          "output_type": "execute_result"
        }
      ],
      "source": [
        "# dropping duplicates, if any\n",
        "df.drop_duplicates(inplace = True)\n",
        "df.shape"
      ]
    },
    {
      "cell_type": "code",
      "execution_count": 177,
      "metadata": {
        "id": "k_cuTziaHblP"
      },
      "outputs": [],
      "source": [
        "#creating new feature, speed\n",
        "df['speed']=df['Distance (KM)']/df['Time from Pickup to Arrival']\n",
        "\n"
      ]
    },
    {
      "cell_type": "code",
      "execution_count": 178,
      "metadata": {
        "colab": {
          "base_uri": "https://localhost:8080/",
          "height": 268
        },
        "id": "Wjslrq_qH98i",
        "outputId": "e2450bfb-690e-4f44-b4b7-6b53e60cb8fa"
      },
      "outputs": [
        {
          "data": {
            "text/html": [
              "\n",
              "  <div id=\"df-de774b9f-15fb-49c0-a2fb-15ee59d672b2\">\n",
              "    <div class=\"colab-df-container\">\n",
              "      <div>\n",
              "<style scoped>\n",
              "    .dataframe tbody tr th:only-of-type {\n",
              "        vertical-align: middle;\n",
              "    }\n",
              "\n",
              "    .dataframe tbody tr th {\n",
              "        vertical-align: top;\n",
              "    }\n",
              "\n",
              "    .dataframe thead th {\n",
              "        text-align: right;\n",
              "    }\n",
              "</style>\n",
              "<table border=\"1\" class=\"dataframe\">\n",
              "  <thead>\n",
              "    <tr style=\"text-align: right;\">\n",
              "      <th></th>\n",
              "      <th>Platform Type</th>\n",
              "      <th>Personal or Business</th>\n",
              "      <th>Pickup - Weekday (Mo = 1)</th>\n",
              "      <th>Distance (KM)</th>\n",
              "      <th>Temperature</th>\n",
              "      <th>Rider Id</th>\n",
              "      <th>Time from Pickup to Arrival</th>\n",
              "      <th>speed</th>\n",
              "    </tr>\n",
              "  </thead>\n",
              "  <tbody>\n",
              "    <tr>\n",
              "      <th>0</th>\n",
              "      <td>3</td>\n",
              "      <td>1</td>\n",
              "      <td>5</td>\n",
              "      <td>4</td>\n",
              "      <td>20.4</td>\n",
              "      <td>432</td>\n",
              "      <td>745</td>\n",
              "      <td>0.005369</td>\n",
              "    </tr>\n",
              "    <tr>\n",
              "      <th>1</th>\n",
              "      <td>3</td>\n",
              "      <td>0</td>\n",
              "      <td>5</td>\n",
              "      <td>16</td>\n",
              "      <td>26.4</td>\n",
              "      <td>856</td>\n",
              "      <td>1993</td>\n",
              "      <td>0.008028</td>\n",
              "    </tr>\n",
              "    <tr>\n",
              "      <th>2</th>\n",
              "      <td>3</td>\n",
              "      <td>1</td>\n",
              "      <td>2</td>\n",
              "      <td>3</td>\n",
              "      <td>24.7</td>\n",
              "      <td>155</td>\n",
              "      <td>455</td>\n",
              "      <td>0.006593</td>\n",
              "    </tr>\n",
              "    <tr>\n",
              "      <th>3</th>\n",
              "      <td>3</td>\n",
              "      <td>1</td>\n",
              "      <td>5</td>\n",
              "      <td>9</td>\n",
              "      <td>19.2</td>\n",
              "      <td>855</td>\n",
              "      <td>1341</td>\n",
              "      <td>0.006711</td>\n",
              "    </tr>\n",
              "    <tr>\n",
              "      <th>4</th>\n",
              "      <td>1</td>\n",
              "      <td>0</td>\n",
              "      <td>1</td>\n",
              "      <td>9</td>\n",
              "      <td>15.4</td>\n",
              "      <td>770</td>\n",
              "      <td>1214</td>\n",
              "      <td>0.007414</td>\n",
              "    </tr>\n",
              "  </tbody>\n",
              "</table>\n",
              "</div>\n",
              "      <button class=\"colab-df-convert\" onclick=\"convertToInteractive('df-de774b9f-15fb-49c0-a2fb-15ee59d672b2')\"\n",
              "              title=\"Convert this dataframe to an interactive table.\"\n",
              "              style=\"display:none;\">\n",
              "        \n",
              "  <svg xmlns=\"http://www.w3.org/2000/svg\" height=\"24px\"viewBox=\"0 0 24 24\"\n",
              "       width=\"24px\">\n",
              "    <path d=\"M0 0h24v24H0V0z\" fill=\"none\"/>\n",
              "    <path d=\"M18.56 5.44l.94 2.06.94-2.06 2.06-.94-2.06-.94-.94-2.06-.94 2.06-2.06.94zm-11 1L8.5 8.5l.94-2.06 2.06-.94-2.06-.94L8.5 2.5l-.94 2.06-2.06.94zm10 10l.94 2.06.94-2.06 2.06-.94-2.06-.94-.94-2.06-.94 2.06-2.06.94z\"/><path d=\"M17.41 7.96l-1.37-1.37c-.4-.4-.92-.59-1.43-.59-.52 0-1.04.2-1.43.59L10.3 9.45l-7.72 7.72c-.78.78-.78 2.05 0 2.83L4 21.41c.39.39.9.59 1.41.59.51 0 1.02-.2 1.41-.59l7.78-7.78 2.81-2.81c.8-.78.8-2.07 0-2.86zM5.41 20L4 18.59l7.72-7.72 1.47 1.35L5.41 20z\"/>\n",
              "  </svg>\n",
              "      </button>\n",
              "      \n",
              "  <style>\n",
              "    .colab-df-container {\n",
              "      display:flex;\n",
              "      flex-wrap:wrap;\n",
              "      gap: 12px;\n",
              "    }\n",
              "\n",
              "    .colab-df-convert {\n",
              "      background-color: #E8F0FE;\n",
              "      border: none;\n",
              "      border-radius: 50%;\n",
              "      cursor: pointer;\n",
              "      display: none;\n",
              "      fill: #1967D2;\n",
              "      height: 32px;\n",
              "      padding: 0 0 0 0;\n",
              "      width: 32px;\n",
              "    }\n",
              "\n",
              "    .colab-df-convert:hover {\n",
              "      background-color: #E2EBFA;\n",
              "      box-shadow: 0px 1px 2px rgba(60, 64, 67, 0.3), 0px 1px 3px 1px rgba(60, 64, 67, 0.15);\n",
              "      fill: #174EA6;\n",
              "    }\n",
              "\n",
              "    [theme=dark] .colab-df-convert {\n",
              "      background-color: #3B4455;\n",
              "      fill: #D2E3FC;\n",
              "    }\n",
              "\n",
              "    [theme=dark] .colab-df-convert:hover {\n",
              "      background-color: #434B5C;\n",
              "      box-shadow: 0px 1px 3px 1px rgba(0, 0, 0, 0.15);\n",
              "      filter: drop-shadow(0px 1px 2px rgba(0, 0, 0, 0.3));\n",
              "      fill: #FFFFFF;\n",
              "    }\n",
              "  </style>\n",
              "\n",
              "      <script>\n",
              "        const buttonEl =\n",
              "          document.querySelector('#df-de774b9f-15fb-49c0-a2fb-15ee59d672b2 button.colab-df-convert');\n",
              "        buttonEl.style.display =\n",
              "          google.colab.kernel.accessAllowed ? 'block' : 'none';\n",
              "\n",
              "        async function convertToInteractive(key) {\n",
              "          const element = document.querySelector('#df-de774b9f-15fb-49c0-a2fb-15ee59d672b2');\n",
              "          const dataTable =\n",
              "            await google.colab.kernel.invokeFunction('convertToInteractive',\n",
              "                                                     [key], {});\n",
              "          if (!dataTable) return;\n",
              "\n",
              "          const docLinkHtml = 'Like what you see? Visit the ' +\n",
              "            '<a target=\"_blank\" href=https://colab.research.google.com/notebooks/data_table.ipynb>data table notebook</a>'\n",
              "            + ' to learn more about interactive tables.';\n",
              "          element.innerHTML = '';\n",
              "          dataTable['output_type'] = 'display_data';\n",
              "          await google.colab.output.renderOutput(dataTable, element);\n",
              "          const docLink = document.createElement('div');\n",
              "          docLink.innerHTML = docLinkHtml;\n",
              "          element.appendChild(docLink);\n",
              "        }\n",
              "      </script>\n",
              "    </div>\n",
              "  </div>\n",
              "  "
            ],
            "text/plain": [
              "   Platform Type  Personal or Business  Pickup - Weekday (Mo = 1)  \\\n",
              "0              3                     1                          5   \n",
              "1              3                     0                          5   \n",
              "2              3                     1                          2   \n",
              "3              3                     1                          5   \n",
              "4              1                     0                          1   \n",
              "\n",
              "   Distance (KM)  Temperature  Rider Id  Time from Pickup to Arrival     speed  \n",
              "0              4         20.4       432                          745  0.005369  \n",
              "1             16         26.4       856                         1993  0.008028  \n",
              "2              3         24.7       155                          455  0.006593  \n",
              "3              9         19.2       855                         1341  0.006711  \n",
              "4              9         15.4       770                         1214  0.007414  "
            ]
          },
          "execution_count": 178,
          "metadata": {},
          "output_type": "execute_result"
        }
      ],
      "source": [
        "df.head()"
      ]
    },
    {
      "cell_type": "code",
      "execution_count": 179,
      "metadata": {
        "colab": {
          "base_uri": "https://localhost:8080/"
        },
        "id": "dWUb1Qt4I25H",
        "outputId": "4d0b99e8-492d-4efb-bdc7-4b67704bce3f"
      },
      "outputs": [
        {
          "data": {
            "text/plain": [
              "Platform Type                  0\n",
              "Personal or Business           0\n",
              "Pickup - Weekday (Mo = 1)      0\n",
              "Distance (KM)                  0\n",
              "Temperature                    0\n",
              "Rider Id                       0\n",
              "Time from Pickup to Arrival    0\n",
              "speed                          0\n",
              "dtype: int64"
            ]
          },
          "execution_count": 179,
          "metadata": {},
          "output_type": "execute_result"
        }
      ],
      "source": [
        "df.isnull().sum()"
      ]
    },
    {
      "cell_type": "code",
      "execution_count": 181,
      "metadata": {
        "id": "Vckqtn9kBl0p"
      },
      "outputs": [],
      "source": [
        "# getting target  from the dataframe\n",
        "y = df[\"Time from Pickup to Arrival\"]\n",
        " \n",
        "# getting features from the dataframe\n",
        "X = df.drop(columns=[\"Time from Pickup to Arrival\"])\n",
        "\n",
        "X_train, X_test, y_train, y_test = train_test_split(\n",
        "    X, y, test_size=0.20)\n",
        " "
      ]
    },
    {
      "cell_type": "code",
      "execution_count": 182,
      "metadata": {
        "id": "HTzp-y8aJARL"
      },
      "outputs": [],
      "source": [
        "# scaling our features\n",
        "from sklearn.preprocessing import MinMaxScaler  \n",
        "norm = MinMaxScaler().fit(X_train) \n",
        "X_train = norm.transform(X_train) \n",
        "X_test = norm.transform(X_test)"
      ]
    },
    {
      "cell_type": "code",
      "execution_count": 183,
      "metadata": {
        "id": "1tM6gL58JWUd"
      },
      "outputs": [],
      "source": [
        "#use PCA in feature transformation\n",
        "from sklearn.decomposition import PCA\n",
        "pca = PCA()\n",
        "X_train = pca.fit_transform(X_train)\n",
        "X_test = pca.transform(X_test)"
      ]
    },
    {
      "cell_type": "markdown",
      "metadata": {
        "id": "YFoZdpZaBiWX"
      },
      "source": [
        "\n",
        "\n",
        "-Feature engineering aspects of cleaning data, feature scaling and transformation, removing of null values etc improves the performance of a machine learning model\n",
        "\n",
        "-Average delivery time for the two customer types is almost similar(very small difference noted )"
      ]
    },
    {
      "cell_type": "markdown",
      "metadata": {
        "id": "YQD7_7o8BiWZ"
      },
      "source": [
        "# <font color='#2F4F4F'>6. Challenging your Solution</font>\n",
        "\n",
        "### a) Did we have the right question?\n",
        "Yes\n",
        "\n",
        "### b) Did we have the right data?\n",
        "Yes\n",
        "\n",
        "### c) What can be done to improve the solution?\n",
        "Get more data to train\n",
        "Further hyperparameter tuning\n",
        "Perform more feature engineering\n"
      ]
    }
  ],
  "metadata": {
    "colab": {
      "collapsed_sections": [],
      "include_colab_link": true,
      "name": "Feature Engineering with Python Project-Violet",
      "provenance": []
    },
    "kernelspec": {
      "display_name": "Python 3",
      "language": "python",
      "name": "python3"
    },
    "language_info": {
      "codemirror_mode": {
        "name": "ipython",
        "version": 3
      },
      "file_extension": ".py",
      "mimetype": "text/x-python",
      "name": "python",
      "nbconvert_exporter": "python",
      "pygments_lexer": "ipython3",
      "version": "3.7.4"
    }
  },
  "nbformat": 4,
  "nbformat_minor": 0
}
